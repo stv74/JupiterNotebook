{
 "cells": [
  {
   "cell_type": "markdown",
   "id": "b28a5b36-6acf-405e-a279-da3c8fac7fcf",
   "metadata": {
    "tags": []
   },
   "source": [
    "# Data Science Tools and Ecosystem"
   ]
  },
  {
   "cell_type": "markdown",
   "id": "ac5190f9-38a4-457c-b696-df6f117afd38",
   "metadata": {},
   "source": [
    "In this notebook, Data Science Tools and Ecosystem are summarized."
   ]
  },
  {
   "cell_type": "markdown",
   "id": "e1213e60-ec00-418c-8235-dbc6776c3503",
   "metadata": {},
   "source": [
    "**Objectives:**\n",
    "\n",
    "- List popular languages for Data Science\n",
    "- List popular libraries for Data Science\n",
    "- Several open source development environments\n",
    "- Various examples of mathematical expressions"
   ]
  },
  {
   "cell_type": "markdown",
   "id": "bd8242f2-9050-4d96-8c57-fa7b6be7f9ca",
   "metadata": {},
   "source": [
    "Some of the popular languages that Data Scientists use are:\n",
    "\n",
    "1. Python\n",
    "2. R\n",
    "3. Java\n",
    "4. Scala\n",
    "5. Go\n",
    "6. Julia\n",
    "7. C++\n",
    "8. SQL"
   ]
  },
  {
   "cell_type": "markdown",
   "id": "2e0e7070-fb1c-4f0b-8169-c696fee7a1e1",
   "metadata": {},
   "source": [
    "Some of the commonly used libraries used by Data Scientists include:\n",
    "\n",
    "1. Pandas\n",
    "2. NumPy\n",
    "3. Matplotlib\n",
    "4. Seaborn\n",
    "5. Scikit-learn\n",
    "6. Keras\n",
    "7. TensorFlow\n",
    "8. PyTorch"
   ]
  },
  {
   "cell_type": "markdown",
   "id": "8e7e8338-a1fd-4370-9237-19314d569f00",
   "metadata": {
    "tags": []
   },
   "source": [
    " Data Science Tools | \n",
    " ------------------ |\n",
    " Jupiter |\n",
    " RStudio |\n",
    " Apache Zeppelin |"
   ]
  },
  {
   "cell_type": "markdown",
   "id": "3bf6a6f8-9cab-44b8-9908-d23b6c14c1e2",
   "metadata": {},
   "source": [
    "### Below are a few examples of evaluating arithmetic expressions in Python\n",
    "\n",
    "a * (b + 3)\n",
    "\n",
    "(4 - 3) * (7 + 2)\n",
    "\n",
    "56 / 2 - 10 "
   ]
  },
  {
   "cell_type": "code",
   "execution_count": 1,
   "id": "759241a1-d4d2-4b2c-ac73-6cdba5c04e76",
   "metadata": {
    "tags": []
   },
   "outputs": [
    {
     "data": {
      "text/plain": [
       "17"
      ]
     },
     "execution_count": 1,
     "metadata": {},
     "output_type": "execute_result"
    }
   ],
   "source": [
    "# This a simple arithmetic expression to mutiply then add integers\n",
    "\n",
    "(3*4)+5"
   ]
  },
  {
   "cell_type": "code",
   "execution_count": 2,
   "id": "eeafeda0-875b-4fcf-a19e-4fa32a028b20",
   "metadata": {
    "tags": []
   },
   "outputs": [
    {
     "data": {
      "text/plain": [
       "3.3333333333333335"
      ]
     },
     "execution_count": 2,
     "metadata": {},
     "output_type": "execute_result"
    }
   ],
   "source": [
    "# This will convert 200 minutes to hours by diving by 60\n",
    "\n",
    "200 / 60"
   ]
  },
  {
   "cell_type": "markdown",
   "id": "434e5c96-cb73-4d0a-b32b-8dcf274be2c6",
   "metadata": {},
   "source": [
    "## Author\n",
    "\n",
    "Taras Samoilov"
   ]
  }
 ],
 "metadata": {
  "kernelspec": {
   "display_name": "Python",
   "language": "python",
   "name": "conda-env-python-py"
  },
  "language_info": {
   "codemirror_mode": {
    "name": "ipython",
    "version": 3
   },
   "file_extension": ".py",
   "mimetype": "text/x-python",
   "name": "python",
   "nbconvert_exporter": "python",
   "pygments_lexer": "ipython3",
   "version": "3.7.12"
  }
 },
 "nbformat": 4,
 "nbformat_minor": 5
}
